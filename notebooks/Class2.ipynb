{
 "cells": [
  {
   "cell_type": "code",
   "execution_count": 1,
   "metadata": {},
   "outputs": [],
   "source": [
    "import numpy as np\n",
    "import pandas as pd"
   ]
  },
  {
   "cell_type": "markdown",
   "metadata": {},
   "source": [
    "# Clase 2: Análisis Exploratorio de Datos (EDA) #"
   ]
  },
  {
   "cell_type": "markdown",
   "metadata": {},
   "source": [
    "## Importando datos con Pandas ##"
   ]
  },
  {
   "cell_type": "code",
   "execution_count": 2,
   "metadata": {},
   "outputs": [],
   "source": [
    "import os\n",
    "\n",
    "DATA_FOLDER = 'datasets'\n",
    "COVID_CSV = '200914COVID19MEXICO.csv'\n",
    "COVID_URL = os.path.join('..', DATA_FOLDER, COVID_CSV)"
   ]
  },
  {
   "cell_type": "code",
   "execution_count": 3,
   "metadata": {},
   "outputs": [
    {
     "name": "stdout",
     "output_type": "stream",
     "text": [
      "..\\datasets\\200914COVID19MEXICO.csv\n"
     ]
    }
   ],
   "source": [
    "print(COVID_URL)"
   ]
  },
  {
   "cell_type": "code",
   "execution_count": 4,
   "metadata": {},
   "outputs": [],
   "source": [
    "# Definir el tipo de dato hace el proceso más eficiente\n",
    "types = {\n",
    "    'SECTOR': np.int8,\n",
    "    'SEXO': np.int8,\n",
    "    'ENTIDAD_RES': np.int8,\n",
    "    'FECHA_INGRESO': 'object',\n",
    "    'FECHA_SINTOMAS': 'object',\n",
    "    'FECHA_DEF': 'object',\n",
    "    'INTUBADO': np.int8,\n",
    "    'NEUMONIA': np.int8,\n",
    "    'EDAD': np.int8,\n",
    "    'NACIONALIDAD': np.int8,\n",
    "    'EMBARAZO': np.int8,\n",
    "    'DIABETES': np.int8,\n",
    "    'EPOC': np.int8,\n",
    "    'ASMA': np.int8,\n",
    "    'INMUSUPR': np.int8,\n",
    "    'HIPERTENSION':np.int8,\n",
    "    'OTRA_COM': np.int8,\n",
    "    'CARDIOVASCULAR': np.int8,\n",
    "    'OBESIDAD': np.int8,\n",
    "    'RENAL_CRONICA': np.int8,\n",
    "    'TABAQUISMO': np.int8,\n",
    "    'OTRO_CASO': np.int8,\n",
    "    'RESULTADO': np.int8,\n",
    "    'UCI': np.int8\n",
    "}"
   ]
  },
  {
   "cell_type": "code",
   "execution_count": 5,
   "metadata": {},
   "outputs": [],
   "source": [
    "# 'latin' porque contiene acentos\n",
    "df = pd.read_csv(COVID_URL, encoding='latin', dtype=types)"
   ]
  },
  {
   "cell_type": "code",
   "execution_count": 6,
   "metadata": {},
   "outputs": [
    {
     "data": {
      "text/html": [
       "<div>\n",
       "<style scoped>\n",
       "    .dataframe tbody tr th:only-of-type {\n",
       "        vertical-align: middle;\n",
       "    }\n",
       "\n",
       "    .dataframe tbody tr th {\n",
       "        vertical-align: top;\n",
       "    }\n",
       "\n",
       "    .dataframe thead th {\n",
       "        text-align: right;\n",
       "    }\n",
       "</style>\n",
       "<table border=\"1\" class=\"dataframe\">\n",
       "  <thead>\n",
       "    <tr style=\"text-align: right;\">\n",
       "      <th></th>\n",
       "      <th>FECHA_ACTUALIZACION</th>\n",
       "      <th>ID_REGISTRO</th>\n",
       "      <th>ORIGEN</th>\n",
       "      <th>SECTOR</th>\n",
       "      <th>ENTIDAD_UM</th>\n",
       "      <th>SEXO</th>\n",
       "      <th>ENTIDAD_NAC</th>\n",
       "      <th>ENTIDAD_RES</th>\n",
       "      <th>MUNICIPIO_RES</th>\n",
       "      <th>TIPO_PACIENTE</th>\n",
       "      <th>...</th>\n",
       "      <th>CARDIOVASCULAR</th>\n",
       "      <th>OBESIDAD</th>\n",
       "      <th>RENAL_CRONICA</th>\n",
       "      <th>TABAQUISMO</th>\n",
       "      <th>OTRO_CASO</th>\n",
       "      <th>RESULTADO</th>\n",
       "      <th>MIGRANTE</th>\n",
       "      <th>PAIS_NACIONALIDAD</th>\n",
       "      <th>PAIS_ORIGEN</th>\n",
       "      <th>UCI</th>\n",
       "    </tr>\n",
       "  </thead>\n",
       "  <tbody>\n",
       "    <tr>\n",
       "      <th>0</th>\n",
       "      <td>2020-09-14</td>\n",
       "      <td>063d1d</td>\n",
       "      <td>2</td>\n",
       "      <td>4</td>\n",
       "      <td>9</td>\n",
       "      <td>1</td>\n",
       "      <td>9</td>\n",
       "      <td>9</td>\n",
       "      <td>2</td>\n",
       "      <td>1</td>\n",
       "      <td>...</td>\n",
       "      <td>2</td>\n",
       "      <td>2</td>\n",
       "      <td>2</td>\n",
       "      <td>2</td>\n",
       "      <td>1</td>\n",
       "      <td>1</td>\n",
       "      <td>99</td>\n",
       "      <td>MÃ©xico</td>\n",
       "      <td>99</td>\n",
       "      <td>97</td>\n",
       "    </tr>\n",
       "    <tr>\n",
       "      <th>1</th>\n",
       "      <td>2020-09-14</td>\n",
       "      <td>0ee9be</td>\n",
       "      <td>2</td>\n",
       "      <td>4</td>\n",
       "      <td>9</td>\n",
       "      <td>2</td>\n",
       "      <td>9</td>\n",
       "      <td>9</td>\n",
       "      <td>7</td>\n",
       "      <td>1</td>\n",
       "      <td>...</td>\n",
       "      <td>2</td>\n",
       "      <td>2</td>\n",
       "      <td>2</td>\n",
       "      <td>2</td>\n",
       "      <td>99</td>\n",
       "      <td>1</td>\n",
       "      <td>99</td>\n",
       "      <td>MÃ©xico</td>\n",
       "      <td>99</td>\n",
       "      <td>97</td>\n",
       "    </tr>\n",
       "    <tr>\n",
       "      <th>2</th>\n",
       "      <td>2020-09-14</td>\n",
       "      <td>18ae31</td>\n",
       "      <td>2</td>\n",
       "      <td>4</td>\n",
       "      <td>15</td>\n",
       "      <td>1</td>\n",
       "      <td>15</td>\n",
       "      <td>15</td>\n",
       "      <td>58</td>\n",
       "      <td>1</td>\n",
       "      <td>...</td>\n",
       "      <td>2</td>\n",
       "      <td>2</td>\n",
       "      <td>2</td>\n",
       "      <td>2</td>\n",
       "      <td>99</td>\n",
       "      <td>1</td>\n",
       "      <td>99</td>\n",
       "      <td>MÃ©xico</td>\n",
       "      <td>99</td>\n",
       "      <td>97</td>\n",
       "    </tr>\n",
       "    <tr>\n",
       "      <th>3</th>\n",
       "      <td>2020-09-14</td>\n",
       "      <td>02d970</td>\n",
       "      <td>2</td>\n",
       "      <td>4</td>\n",
       "      <td>13</td>\n",
       "      <td>2</td>\n",
       "      <td>13</td>\n",
       "      <td>13</td>\n",
       "      <td>76</td>\n",
       "      <td>2</td>\n",
       "      <td>...</td>\n",
       "      <td>2</td>\n",
       "      <td>2</td>\n",
       "      <td>2</td>\n",
       "      <td>2</td>\n",
       "      <td>99</td>\n",
       "      <td>1</td>\n",
       "      <td>99</td>\n",
       "      <td>MÃ©xico</td>\n",
       "      <td>99</td>\n",
       "      <td>2</td>\n",
       "    </tr>\n",
       "    <tr>\n",
       "      <th>4</th>\n",
       "      <td>2020-09-14</td>\n",
       "      <td>05a196</td>\n",
       "      <td>2</td>\n",
       "      <td>4</td>\n",
       "      <td>12</td>\n",
       "      <td>2</td>\n",
       "      <td>20</td>\n",
       "      <td>12</td>\n",
       "      <td>29</td>\n",
       "      <td>2</td>\n",
       "      <td>...</td>\n",
       "      <td>2</td>\n",
       "      <td>1</td>\n",
       "      <td>2</td>\n",
       "      <td>2</td>\n",
       "      <td>99</td>\n",
       "      <td>1</td>\n",
       "      <td>99</td>\n",
       "      <td>MÃ©xico</td>\n",
       "      <td>99</td>\n",
       "      <td>2</td>\n",
       "    </tr>\n",
       "    <tr>\n",
       "      <th>5</th>\n",
       "      <td>2020-09-14</td>\n",
       "      <td>08f0e2</td>\n",
       "      <td>2</td>\n",
       "      <td>4</td>\n",
       "      <td>15</td>\n",
       "      <td>1</td>\n",
       "      <td>15</td>\n",
       "      <td>15</td>\n",
       "      <td>33</td>\n",
       "      <td>1</td>\n",
       "      <td>...</td>\n",
       "      <td>2</td>\n",
       "      <td>1</td>\n",
       "      <td>2</td>\n",
       "      <td>1</td>\n",
       "      <td>99</td>\n",
       "      <td>1</td>\n",
       "      <td>99</td>\n",
       "      <td>MÃ©xico</td>\n",
       "      <td>99</td>\n",
       "      <td>97</td>\n",
       "    </tr>\n",
       "    <tr>\n",
       "      <th>6</th>\n",
       "      <td>2020-09-14</td>\n",
       "      <td>100180</td>\n",
       "      <td>2</td>\n",
       "      <td>4</td>\n",
       "      <td>9</td>\n",
       "      <td>1</td>\n",
       "      <td>10</td>\n",
       "      <td>9</td>\n",
       "      <td>15</td>\n",
       "      <td>1</td>\n",
       "      <td>...</td>\n",
       "      <td>2</td>\n",
       "      <td>2</td>\n",
       "      <td>2</td>\n",
       "      <td>2</td>\n",
       "      <td>99</td>\n",
       "      <td>1</td>\n",
       "      <td>99</td>\n",
       "      <td>MÃ©xico</td>\n",
       "      <td>99</td>\n",
       "      <td>97</td>\n",
       "    </tr>\n",
       "    <tr>\n",
       "      <th>7</th>\n",
       "      <td>2020-09-14</td>\n",
       "      <td>1622ec</td>\n",
       "      <td>2</td>\n",
       "      <td>4</td>\n",
       "      <td>15</td>\n",
       "      <td>1</td>\n",
       "      <td>15</td>\n",
       "      <td>15</td>\n",
       "      <td>109</td>\n",
       "      <td>2</td>\n",
       "      <td>...</td>\n",
       "      <td>2</td>\n",
       "      <td>2</td>\n",
       "      <td>2</td>\n",
       "      <td>2</td>\n",
       "      <td>99</td>\n",
       "      <td>1</td>\n",
       "      <td>99</td>\n",
       "      <td>MÃ©xico</td>\n",
       "      <td>99</td>\n",
       "      <td>2</td>\n",
       "    </tr>\n",
       "    <tr>\n",
       "      <th>8</th>\n",
       "      <td>2020-09-14</td>\n",
       "      <td>18f860</td>\n",
       "      <td>2</td>\n",
       "      <td>3</td>\n",
       "      <td>2</td>\n",
       "      <td>1</td>\n",
       "      <td>2</td>\n",
       "      <td>2</td>\n",
       "      <td>2</td>\n",
       "      <td>2</td>\n",
       "      <td>...</td>\n",
       "      <td>2</td>\n",
       "      <td>2</td>\n",
       "      <td>2</td>\n",
       "      <td>2</td>\n",
       "      <td>1</td>\n",
       "      <td>1</td>\n",
       "      <td>99</td>\n",
       "      <td>MÃ©xico</td>\n",
       "      <td>99</td>\n",
       "      <td>2</td>\n",
       "    </tr>\n",
       "    <tr>\n",
       "      <th>9</th>\n",
       "      <td>2020-09-14</td>\n",
       "      <td>1057de</td>\n",
       "      <td>2</td>\n",
       "      <td>3</td>\n",
       "      <td>15</td>\n",
       "      <td>2</td>\n",
       "      <td>15</td>\n",
       "      <td>15</td>\n",
       "      <td>33</td>\n",
       "      <td>1</td>\n",
       "      <td>...</td>\n",
       "      <td>2</td>\n",
       "      <td>2</td>\n",
       "      <td>2</td>\n",
       "      <td>2</td>\n",
       "      <td>1</td>\n",
       "      <td>1</td>\n",
       "      <td>99</td>\n",
       "      <td>MÃ©xico</td>\n",
       "      <td>99</td>\n",
       "      <td>97</td>\n",
       "    </tr>\n",
       "  </tbody>\n",
       "</table>\n",
       "<p>10 rows × 35 columns</p>\n",
       "</div>"
      ],
      "text/plain": [
       "  FECHA_ACTUALIZACION ID_REGISTRO  ORIGEN  SECTOR  ENTIDAD_UM  SEXO  \\\n",
       "0          2020-09-14      063d1d       2       4           9     1   \n",
       "1          2020-09-14      0ee9be       2       4           9     2   \n",
       "2          2020-09-14      18ae31       2       4          15     1   \n",
       "3          2020-09-14      02d970       2       4          13     2   \n",
       "4          2020-09-14      05a196       2       4          12     2   \n",
       "5          2020-09-14      08f0e2       2       4          15     1   \n",
       "6          2020-09-14      100180       2       4           9     1   \n",
       "7          2020-09-14      1622ec       2       4          15     1   \n",
       "8          2020-09-14      18f860       2       3           2     1   \n",
       "9          2020-09-14      1057de       2       3          15     2   \n",
       "\n",
       "   ENTIDAD_NAC  ENTIDAD_RES  MUNICIPIO_RES  TIPO_PACIENTE  ... CARDIOVASCULAR  \\\n",
       "0            9            9              2              1  ...              2   \n",
       "1            9            9              7              1  ...              2   \n",
       "2           15           15             58              1  ...              2   \n",
       "3           13           13             76              2  ...              2   \n",
       "4           20           12             29              2  ...              2   \n",
       "5           15           15             33              1  ...              2   \n",
       "6           10            9             15              1  ...              2   \n",
       "7           15           15            109              2  ...              2   \n",
       "8            2            2              2              2  ...              2   \n",
       "9           15           15             33              1  ...              2   \n",
       "\n",
       "  OBESIDAD RENAL_CRONICA  TABAQUISMO  OTRO_CASO  RESULTADO  MIGRANTE  \\\n",
       "0        2             2           2          1          1        99   \n",
       "1        2             2           2         99          1        99   \n",
       "2        2             2           2         99          1        99   \n",
       "3        2             2           2         99          1        99   \n",
       "4        1             2           2         99          1        99   \n",
       "5        1             2           1         99          1        99   \n",
       "6        2             2           2         99          1        99   \n",
       "7        2             2           2         99          1        99   \n",
       "8        2             2           2          1          1        99   \n",
       "9        2             2           2          1          1        99   \n",
       "\n",
       "   PAIS_NACIONALIDAD  PAIS_ORIGEN  UCI  \n",
       "0            MÃ©xico           99   97  \n",
       "1            MÃ©xico           99   97  \n",
       "2            MÃ©xico           99   97  \n",
       "3            MÃ©xico           99    2  \n",
       "4            MÃ©xico           99    2  \n",
       "5            MÃ©xico           99   97  \n",
       "6            MÃ©xico           99   97  \n",
       "7            MÃ©xico           99    2  \n",
       "8            MÃ©xico           99    2  \n",
       "9            MÃ©xico           99   97  \n",
       "\n",
       "[10 rows x 35 columns]"
      ]
     },
     "execution_count": 6,
     "metadata": {},
     "output_type": "execute_result"
    }
   ],
   "source": [
    "df.head(10)"
   ]
  },
  {
   "cell_type": "code",
   "execution_count": 7,
   "metadata": {
    "scrolled": true
   },
   "outputs": [
    {
     "name": "stdout",
     "output_type": "stream",
     "text": [
      "<class 'pandas.core.frame.DataFrame'>\n",
      "RangeIndex: 1520463 entries, 0 to 1520462\n",
      "Data columns (total 35 columns):\n",
      " #   Column               Non-Null Count    Dtype \n",
      "---  ------               --------------    ----- \n",
      " 0   FECHA_ACTUALIZACION  1520463 non-null  object\n",
      " 1   ID_REGISTRO          1520463 non-null  object\n",
      " 2   ORIGEN               1520463 non-null  int64 \n",
      " 3   SECTOR               1520463 non-null  int8  \n",
      " 4   ENTIDAD_UM           1520463 non-null  int64 \n",
      " 5   SEXO                 1520463 non-null  int8  \n",
      " 6   ENTIDAD_NAC          1520463 non-null  int64 \n",
      " 7   ENTIDAD_RES          1520463 non-null  int8  \n",
      " 8   MUNICIPIO_RES        1520463 non-null  int64 \n",
      " 9   TIPO_PACIENTE        1520463 non-null  int64 \n",
      " 10  FECHA_INGRESO        1520463 non-null  object\n",
      " 11  FECHA_SINTOMAS       1520463 non-null  object\n",
      " 12  FECHA_DEF            1520463 non-null  object\n",
      " 13  INTUBADO             1520463 non-null  int8  \n",
      " 14  NEUMONIA             1520463 non-null  int8  \n",
      " 15  EDAD                 1520463 non-null  int8  \n",
      " 16  NACIONALIDAD         1520463 non-null  int8  \n",
      " 17  EMBARAZO             1520463 non-null  int8  \n",
      " 18  HABLA_LENGUA_INDIG   1520463 non-null  int64 \n",
      " 19  DIABETES             1520463 non-null  int8  \n",
      " 20  EPOC                 1520463 non-null  int8  \n",
      " 21  ASMA                 1520463 non-null  int8  \n",
      " 22  INMUSUPR             1520463 non-null  int8  \n",
      " 23  HIPERTENSION         1520463 non-null  int8  \n",
      " 24  OTRA_COM             1520463 non-null  int8  \n",
      " 25  CARDIOVASCULAR       1520463 non-null  int8  \n",
      " 26  OBESIDAD             1520463 non-null  int8  \n",
      " 27  RENAL_CRONICA        1520463 non-null  int8  \n",
      " 28  TABAQUISMO           1520463 non-null  int8  \n",
      " 29  OTRO_CASO            1520463 non-null  int8  \n",
      " 30  RESULTADO            1520463 non-null  int8  \n",
      " 31  MIGRANTE             1520463 non-null  int64 \n",
      " 32  PAIS_NACIONALIDAD    1520463 non-null  object\n",
      " 33  PAIS_ORIGEN          1520463 non-null  object\n",
      " 34  UCI                  1520463 non-null  int8  \n",
      "dtypes: int64(7), int8(21), object(7)\n",
      "memory usage: 152.3+ MB\n"
     ]
    }
   ],
   "source": [
    "# Los tipos que definimos se respetan. Los otros se intuyen (no de manera óptima)\n",
    "df.info()"
   ]
  },
  {
   "cell_type": "markdown",
   "metadata": {},
   "source": [
    "### Estrategia para el análisis ###"
   ]
  },
  {
   "cell_type": "markdown",
   "metadata": {},
   "source": [
    "* Eliminar campos que no nos sirven ahora: ID Registro, Municipio de procedencia, Origen, Entidad_UM, Fecha de Síntomas, País de Origen, País de Nacionalidad, Migrante, Otro Caso, Tipo de Paciente, Habla lengua indígena, Fecha de actualización.\n",
    "* Indagar y trabajar más sobre campos útiles: Fecha de actualización, Fecha de defunción, Fecha de ingreso.\n",
    "* Identificar preguntas que queremos responder\n",
    "    * ¿Cuántos hombres y mujeres se infectaron o fallecieron?\n",
    "    * ¿Qué estados han sufrido más por el COVID?\n",
    "    * ¿Cómo ha ido avanzando la pandemia en México?\n",
    "    * ¿Cuál ha sido el rendimiento de los diferentes sistemas de salud durante la pandemia?\n",
    "    * ¿Cuál es el efecto de enfermedades existentes en los infectados de COVID?\n",
    "    * ¿Cuál es el efecto de las complicaciones presentadas en lso infectados?\n",
    "    * ¿Cómo se distribuyen los infectados y fallecidos según en el espectro de edades?\n",
    "    * ¿Existe alguna correlación entre el tiempo en morir y las edades?"
   ]
  },
  {
   "cell_type": "markdown",
   "metadata": {},
   "source": [
    "### Limpiando datos ###\n",
    "Limpiar involucra el proceso de convertir los datos a un formato legible y eficiente para su procesamiento. En nuestro caso, eliminaremos ciertos campos y registros innecesarios, además de cambiar el formato de algunas columnas."
   ]
  },
  {
   "cell_type": "code",
   "execution_count": 8,
   "metadata": {},
   "outputs": [],
   "source": [
    "# Eliminando columnas innecesarias\n",
    "cols = ['FECHA_ACTUALIZACION', 'ID_REGISTRO', 'ORIGEN', 'ENTIDAD_UM', 'ENTIDAD_NAC',\n",
    "       'MUNICIPIO_RES', 'TIPO_PACIENTE', 'NACIONALIDAD', 'HABLA_LENGUA_INDIG',\n",
    "       'OTRO_CASO', 'MIGRANTE', 'PAIS_NACIONALIDAD', 'PAIS_ORIGEN']\n",
    "df.drop(cols, axis=1, inplace=True)"
   ]
  },
  {
   "cell_type": "code",
   "execution_count": 9,
   "metadata": {},
   "outputs": [],
   "source": [
    "# Eliminamos registros no relacionados al COVID\n",
    "rows = df[df.RESULTADO==2].index\n",
    "df.drop(rows, inplace=True)"
   ]
  },
  {
   "cell_type": "code",
   "execution_count": 10,
   "metadata": {},
   "outputs": [
    {
     "name": "stdout",
     "output_type": "stream",
     "text": [
      "<class 'pandas.core.frame.DataFrame'>\n",
      "Int64Index: 750266 entries, 0 to 1520462\n",
      "Data columns (total 22 columns):\n",
      " #   Column          Non-Null Count   Dtype \n",
      "---  ------          --------------   ----- \n",
      " 0   SECTOR          750266 non-null  int8  \n",
      " 1   SEXO            750266 non-null  int8  \n",
      " 2   ENTIDAD_RES     750266 non-null  int8  \n",
      " 3   FECHA_INGRESO   750266 non-null  object\n",
      " 4   FECHA_SINTOMAS  750266 non-null  object\n",
      " 5   FECHA_DEF       750266 non-null  object\n",
      " 6   INTUBADO        750266 non-null  int8  \n",
      " 7   NEUMONIA        750266 non-null  int8  \n",
      " 8   EDAD            750266 non-null  int8  \n",
      " 9   EMBARAZO        750266 non-null  int8  \n",
      " 10  DIABETES        750266 non-null  int8  \n",
      " 11  EPOC            750266 non-null  int8  \n",
      " 12  ASMA            750266 non-null  int8  \n",
      " 13  INMUSUPR        750266 non-null  int8  \n",
      " 14  HIPERTENSION    750266 non-null  int8  \n",
      " 15  OTRA_COM        750266 non-null  int8  \n",
      " 16  CARDIOVASCULAR  750266 non-null  int8  \n",
      " 17  OBESIDAD        750266 non-null  int8  \n",
      " 18  RENAL_CRONICA   750266 non-null  int8  \n",
      " 19  TABAQUISMO      750266 non-null  int8  \n",
      " 20  RESULTADO       750266 non-null  int8  \n",
      " 21  UCI             750266 non-null  int8  \n",
      "dtypes: int8(19), object(3)\n",
      "memory usage: 27.9+ MB\n"
     ]
    }
   ],
   "source": [
    "# La memoria se ha reducido drásticamente\n",
    "df.info()"
   ]
  },
  {
   "cell_type": "code",
   "execution_count": 11,
   "metadata": {},
   "outputs": [],
   "source": [
    "# Transformamos datos de fecha a un formato más legible\n",
    "df['FECHA_SINTOMAS'] = pd.to_datetime(df['FECHA_SINTOMAS'], format='%Y-%m-%d')"
   ]
  },
  {
   "cell_type": "markdown",
   "metadata": {},
   "source": [
    "### Transformando datos con apply() ###"
   ]
  },
  {
   "cell_type": "code",
   "execution_count": 12,
   "metadata": {},
   "outputs": [
    {
     "data": {
      "text/plain": [
       "11"
      ]
     },
     "execution_count": 12,
     "metadata": {},
     "output_type": "execute_result"
    }
   ],
   "source": [
    "# Ahora podemos saber el año, mes y día de forma más sencilla\n",
    "df.iloc[5].FECHA_SINTOMAS.day # month, year"
   ]
  },
  {
   "cell_type": "code",
   "execution_count": 13,
   "metadata": {},
   "outputs": [],
   "source": [
    "# FECHA_DEF no puede ser convertido directamente, debido a que posee fechas incorrectas ('9999-99-99')\n",
    "fecha_modif = df.apply(lambda fila: '2000-01-01' if fila.FECHA_DEF=='9999-99-99' else fila.FECHA_DEF, axis='columns')"
   ]
  },
  {
   "cell_type": "code",
   "execution_count": 14,
   "metadata": {},
   "outputs": [
    {
     "data": {
      "text/plain": [
       "0          2000-01-01\n",
       "1          2000-01-01\n",
       "2          2000-01-01\n",
       "3          2020-04-27\n",
       "4          2020-04-06\n",
       "              ...    \n",
       "1520458    2000-01-01\n",
       "1520459    2000-01-01\n",
       "1520460    2000-01-01\n",
       "1520461    2000-01-01\n",
       "1520462    2000-01-01\n",
       "Length: 750266, dtype: object"
      ]
     },
     "execution_count": 14,
     "metadata": {},
     "output_type": "execute_result"
    }
   ],
   "source": [
    "fecha_modif"
   ]
  },
  {
   "cell_type": "code",
   "execution_count": 15,
   "metadata": {},
   "outputs": [],
   "source": [
    "df['FECHA_DEF'] = fecha_modif"
   ]
  },
  {
   "cell_type": "code",
   "execution_count": 16,
   "metadata": {},
   "outputs": [],
   "source": [
    "df['FECHA_DEF'] = pd.to_datetime(df['FECHA_DEF'], format='%Y-%m-%d')"
   ]
  },
  {
   "cell_type": "code",
   "execution_count": 17,
   "metadata": {},
   "outputs": [
    {
     "name": "stdout",
     "output_type": "stream",
     "text": [
      "<class 'pandas.core.frame.DataFrame'>\n",
      "Int64Index: 750266 entries, 0 to 1520462\n",
      "Data columns (total 22 columns):\n",
      " #   Column          Non-Null Count   Dtype         \n",
      "---  ------          --------------   -----         \n",
      " 0   SECTOR          750266 non-null  int8          \n",
      " 1   SEXO            750266 non-null  int8          \n",
      " 2   ENTIDAD_RES     750266 non-null  int8          \n",
      " 3   FECHA_INGRESO   750266 non-null  object        \n",
      " 4   FECHA_SINTOMAS  750266 non-null  datetime64[ns]\n",
      " 5   FECHA_DEF       750266 non-null  datetime64[ns]\n",
      " 6   INTUBADO        750266 non-null  int8          \n",
      " 7   NEUMONIA        750266 non-null  int8          \n",
      " 8   EDAD            750266 non-null  int8          \n",
      " 9   EMBARAZO        750266 non-null  int8          \n",
      " 10  DIABETES        750266 non-null  int8          \n",
      " 11  EPOC            750266 non-null  int8          \n",
      " 12  ASMA            750266 non-null  int8          \n",
      " 13  INMUSUPR        750266 non-null  int8          \n",
      " 14  HIPERTENSION    750266 non-null  int8          \n",
      " 15  OTRA_COM        750266 non-null  int8          \n",
      " 16  CARDIOVASCULAR  750266 non-null  int8          \n",
      " 17  OBESIDAD        750266 non-null  int8          \n",
      " 18  RENAL_CRONICA   750266 non-null  int8          \n",
      " 19  TABAQUISMO      750266 non-null  int8          \n",
      " 20  RESULTADO       750266 non-null  int8          \n",
      " 21  UCI             750266 non-null  int8          \n",
      "dtypes: datetime64[ns](2), int8(19), object(1)\n",
      "memory usage: 33.6+ MB\n"
     ]
    }
   ],
   "source": [
    "df.info() # Podríamos mejorar el uso de memoria por datetime en un futuro"
   ]
  },
  {
   "cell_type": "markdown",
   "metadata": {},
   "source": [
    "### Salvemos los datos ###"
   ]
  },
  {
   "cell_type": "code",
   "execution_count": 18,
   "metadata": {},
   "outputs": [
    {
     "name": "stdout",
     "output_type": "stream",
     "text": [
      "..\\datasets\\Clean_Covid_Dataset.csv\n"
     ]
    }
   ],
   "source": [
    "CLEAN_COVID_FILENAME = 'Clean_Covid_Dataset.csv'\n",
    "CLEAN_COVID_URL = os.path.join('..', DATA_FOLDER, CLEAN_COVID_FILENAME)\n",
    "print(CLEAN_COVID_URL)\n",
    "df.to_csv(CLEAN_COVID_URL)"
   ]
  },
  {
   "cell_type": "markdown",
   "metadata": {},
   "source": [
    "### Indexado Jerárquico: Índices que tienen índices ###"
   ]
  },
  {
   "cell_type": "code",
   "execution_count": 19,
   "metadata": {},
   "outputs": [],
   "source": [
    "df1 = df.copy()"
   ]
  },
  {
   "cell_type": "markdown",
   "metadata": {},
   "source": [
    "### Agrupaciones y Agregaciones ###\n",
    "En esta sección responderemos las preguntas\n",
    "* ¿Cuántos hombres y mujeres se infectaron o fallecieron?\n",
    "* ¿Qué estados han sufrido más por el COVID?\n",
    "* ¿Cómo ha ido avanzando la pandemia en México?\n",
    "* ¿Cuál ha sido el rendimiento de los diferentes sistemas de salud durante la pandemia?\n",
    "* ¿Cuál es el efecto de enfermedades existentes en los infectados de COVID?\n",
    "* ¿Qué tipo de complicaciones presentaron los hospitalizados?"
   ]
  },
  {
   "cell_type": "markdown",
   "metadata": {},
   "source": [
    "#### ¿Cuántos hombres y mujeres se infectaron o fallecieron? ####"
   ]
  },
  {
   "cell_type": "code",
   "execution_count": 20,
   "metadata": {},
   "outputs": [
    {
     "data": {
      "text/plain": [
       "SEXO  RESULTADO\n",
       "1     1            321474\n",
       "      3             39823\n",
       "2     1            350242\n",
       "      3             38727\n",
       "Name: RESULTADO, dtype: int64"
      ]
     },
     "execution_count": 20,
     "metadata": {},
     "output_type": "execute_result"
    }
   ],
   "source": [
    "# Agrupemos por sexo y luego por resultado\n",
    "covid_por_genero = df['RESULTADO'].groupby([df['SEXO'], df['RESULTADO']]).count()\n",
    "covid_por_genero"
   ]
  },
  {
   "cell_type": "markdown",
   "metadata": {},
   "source": [
    "#### ¿Qué estados han sufrido más por el COVID? ####"
   ]
  },
  {
   "cell_type": "code",
   "execution_count": 21,
   "metadata": {},
   "outputs": [
    {
     "data": {
      "text/plain": [
       "ENTIDAD_RES  RESULTADO\n",
       "1            1             6441\n",
       "             3              229\n",
       "2            1            18346\n",
       "             3              899\n",
       "3            1             9033\n",
       "                          ...  \n",
       "30           3             2260\n",
       "31           1            16729\n",
       "             3              357\n",
       "32           1             6409\n",
       "             3               87\n",
       "Name: RESULTADO, Length: 64, dtype: int64"
      ]
     },
     "execution_count": 21,
     "metadata": {},
     "output_type": "execute_result"
    }
   ],
   "source": [
    "# Agrupamos por estado y luego por resultado\n",
    "covid_por_estado = df['RESULTADO'].groupby([df['ENTIDAD_RES'], df['RESULTADO']]).count()\n",
    "covid_por_estado"
   ]
  },
  {
   "cell_type": "markdown",
   "metadata": {},
   "source": [
    "#### ¿Cómo ha ido avanzando la pandemia en México? ####"
   ]
  },
  {
   "cell_type": "code",
   "execution_count": 22,
   "metadata": {},
   "outputs": [
    {
     "data": {
      "text/plain": [
       "FECHA_INGRESO  RESULTADO\n",
       "2020-01-13     1               1\n",
       "2020-01-29     1               1\n",
       "2020-01-30     3               1\n",
       "2020-02-07     3               1\n",
       "2020-02-24     1               1\n",
       "                            ... \n",
       "2020-09-12     1             419\n",
       "               3            4024\n",
       "2020-09-13     1             114\n",
       "               3            2275\n",
       "2020-09-14     3             365\n",
       "Name: RESULTADO, Length: 383, dtype: int64"
      ]
     },
     "execution_count": 22,
     "metadata": {},
     "output_type": "execute_result"
    }
   ],
   "source": [
    "# ¿Cómo ha ido avanzando la pandemia en México?\n",
    "covid_por_mes = df['RESULTADO'].groupby([df['FECHA_INGRESO'], df['RESULTADO']]).count()\n",
    "covid_por_mes"
   ]
  },
  {
   "cell_type": "markdown",
   "metadata": {},
   "source": [
    "#### ¿Cuál ha sido el rendimiento de los diferentes sistemas de salud durante la pandemia? ####"
   ]
  },
  {
   "cell_type": "code",
   "execution_count": 23,
   "metadata": {},
   "outputs": [
    {
     "data": {
      "text/plain": [
       "SECTOR  RESULTADO\n",
       "1       1                54\n",
       "        3                 3\n",
       "2       1               452\n",
       "        3                 5\n",
       "3       1             13108\n",
       "        3               648\n",
       "4       1            212232\n",
       "        3             15968\n",
       "5       1              5288\n",
       "        3               536\n",
       "6       1             28839\n",
       "        3              2424\n",
       "7       1               568\n",
       "        3                44\n",
       "8       1              7165\n",
       "        3               126\n",
       "9       1             20949\n",
       "        3             13623\n",
       "10      1              4246\n",
       "        3               684\n",
       "11      1              4806\n",
       "        3              1197\n",
       "12      1            373602\n",
       "        3             43173\n",
       "13      1               407\n",
       "        3               119\n",
       "Name: RESULTADO, dtype: int64"
      ]
     },
     "execution_count": 23,
     "metadata": {},
     "output_type": "execute_result"
    }
   ],
   "source": [
    "covid_por_sistema = df['RESULTADO'].groupby([df['SECTOR'], df['RESULTADO']]).count()\n",
    "covid_por_sistema"
   ]
  },
  {
   "cell_type": "markdown",
   "metadata": {},
   "source": [
    "### Concatenando DataFrames ###\n",
    "Aquí respondemos las preguntas:\n",
    "* ¿Cuál es el efecto de enfermedades existentes en los infectados de COVID?\n",
    "* ¿Cuál es el efecto de las complicaciones presentadas en lso infectados?"
   ]
  },
  {
   "cell_type": "markdown",
   "metadata": {},
   "source": [
    "#### ¿Cuál es el efecto de enfermedades existentes en los infectados de COVID? ####"
   ]
  },
  {
   "cell_type": "code",
   "execution_count": 24,
   "metadata": {},
   "outputs": [],
   "source": [
    "df['FALLECIDO'] = df.apply(lambda x: 0 if x.FECHA_DEF.year==2000 else 1, axis='columns')"
   ]
  },
  {
   "cell_type": "code",
   "execution_count": 25,
   "metadata": {},
   "outputs": [
    {
     "data": {
      "text/html": [
       "<div>\n",
       "<style scoped>\n",
       "    .dataframe tbody tr th:only-of-type {\n",
       "        vertical-align: middle;\n",
       "    }\n",
       "\n",
       "    .dataframe tbody tr th {\n",
       "        vertical-align: top;\n",
       "    }\n",
       "\n",
       "    .dataframe thead th {\n",
       "        text-align: right;\n",
       "    }\n",
       "</style>\n",
       "<table border=\"1\" class=\"dataframe\">\n",
       "  <thead>\n",
       "    <tr style=\"text-align: right;\">\n",
       "      <th></th>\n",
       "      <th>HIPERTENSION</th>\n",
       "    </tr>\n",
       "    <tr>\n",
       "      <th>FALLECIDO</th>\n",
       "      <th></th>\n",
       "    </tr>\n",
       "  </thead>\n",
       "  <tbody>\n",
       "    <tr>\n",
       "      <th>0</th>\n",
       "      <td>109262</td>\n",
       "    </tr>\n",
       "    <tr>\n",
       "      <th>1</th>\n",
       "      <td>32654</td>\n",
       "    </tr>\n",
       "  </tbody>\n",
       "</table>\n",
       "</div>"
      ],
      "text/plain": [
       "           HIPERTENSION\n",
       "FALLECIDO              \n",
       "0                109262\n",
       "1                 32654"
      ]
     },
     "execution_count": 25,
     "metadata": {},
     "output_type": "execute_result"
    }
   ],
   "source": [
    "# No podemos agrupar en una sóla línea porque las enfermedades están en varias columnas\n",
    "covid_por_hiper = df[df['HIPERTENSION']==1][['HIPERTENSION']].groupby([df['FALLECIDO']]).count()\n",
    "covid_por_hiper"
   ]
  },
  {
   "cell_type": "code",
   "execution_count": 26,
   "metadata": {},
   "outputs": [
    {
     "data": {
      "text/html": [
       "<div>\n",
       "<style scoped>\n",
       "    .dataframe tbody tr th:only-of-type {\n",
       "        vertical-align: middle;\n",
       "    }\n",
       "\n",
       "    .dataframe tbody tr th {\n",
       "        vertical-align: top;\n",
       "    }\n",
       "\n",
       "    .dataframe thead th {\n",
       "        text-align: right;\n",
       "    }\n",
       "</style>\n",
       "<table border=\"1\" class=\"dataframe\">\n",
       "  <thead>\n",
       "    <tr style=\"text-align: right;\">\n",
       "      <th>FALLECIDO</th>\n",
       "      <th>0</th>\n",
       "      <th>1</th>\n",
       "    </tr>\n",
       "  </thead>\n",
       "  <tbody>\n",
       "    <tr>\n",
       "      <th>HIPERTENSION</th>\n",
       "      <td>109262</td>\n",
       "      <td>32654</td>\n",
       "    </tr>\n",
       "  </tbody>\n",
       "</table>\n",
       "</div>"
      ],
      "text/plain": [
       "FALLECIDO          0      1\n",
       "HIPERTENSION  109262  32654"
      ]
     },
     "execution_count": 26,
     "metadata": {},
     "output_type": "execute_result"
    }
   ],
   "source": [
    "covid_por_hiper = covid_por_hiper.T\n",
    "covid_por_hiper"
   ]
  },
  {
   "cell_type": "code",
   "execution_count": 27,
   "metadata": {},
   "outputs": [
    {
     "data": {
      "text/html": [
       "<div>\n",
       "<style scoped>\n",
       "    .dataframe tbody tr th:only-of-type {\n",
       "        vertical-align: middle;\n",
       "    }\n",
       "\n",
       "    .dataframe tbody tr th {\n",
       "        vertical-align: top;\n",
       "    }\n",
       "\n",
       "    .dataframe thead th {\n",
       "        text-align: right;\n",
       "    }\n",
       "</style>\n",
       "<table border=\"1\" class=\"dataframe\">\n",
       "  <thead>\n",
       "    <tr style=\"text-align: right;\">\n",
       "      <th></th>\n",
       "      <th>CARDIOVASCULAR</th>\n",
       "    </tr>\n",
       "    <tr>\n",
       "      <th>FALLECIDO</th>\n",
       "      <th></th>\n",
       "    </tr>\n",
       "  </thead>\n",
       "  <tbody>\n",
       "    <tr>\n",
       "      <th>0</th>\n",
       "      <td>10854</td>\n",
       "    </tr>\n",
       "    <tr>\n",
       "      <th>1</th>\n",
       "      <td>3918</td>\n",
       "    </tr>\n",
       "  </tbody>\n",
       "</table>\n",
       "</div>"
      ],
      "text/plain": [
       "           CARDIOVASCULAR\n",
       "FALLECIDO                \n",
       "0                   10854\n",
       "1                    3918"
      ]
     },
     "execution_count": 27,
     "metadata": {},
     "output_type": "execute_result"
    }
   ],
   "source": [
    "covid_por_cardio = df[df['CARDIOVASCULAR']==1][['CARDIOVASCULAR']].groupby(df['FALLECIDO']).count()\n",
    "covid_por_cardio"
   ]
  },
  {
   "cell_type": "code",
   "execution_count": 28,
   "metadata": {},
   "outputs": [
    {
     "data": {
      "text/html": [
       "<div>\n",
       "<style scoped>\n",
       "    .dataframe tbody tr th:only-of-type {\n",
       "        vertical-align: middle;\n",
       "    }\n",
       "\n",
       "    .dataframe tbody tr th {\n",
       "        vertical-align: top;\n",
       "    }\n",
       "\n",
       "    .dataframe thead th {\n",
       "        text-align: right;\n",
       "    }\n",
       "</style>\n",
       "<table border=\"1\" class=\"dataframe\">\n",
       "  <thead>\n",
       "    <tr style=\"text-align: right;\">\n",
       "      <th>FALLECIDO</th>\n",
       "      <th>0</th>\n",
       "      <th>1</th>\n",
       "    </tr>\n",
       "  </thead>\n",
       "  <tbody>\n",
       "    <tr>\n",
       "      <th>CARDIOVASCULAR</th>\n",
       "      <td>10854</td>\n",
       "      <td>3918</td>\n",
       "    </tr>\n",
       "  </tbody>\n",
       "</table>\n",
       "</div>"
      ],
      "text/plain": [
       "FALLECIDO           0     1\n",
       "CARDIOVASCULAR  10854  3918"
      ]
     },
     "execution_count": 28,
     "metadata": {},
     "output_type": "execute_result"
    }
   ],
   "source": [
    "covid_por_cardio = covid_por_cardio.T\n",
    "covid_por_cardio"
   ]
  },
  {
   "cell_type": "code",
   "execution_count": 29,
   "metadata": {},
   "outputs": [
    {
     "data": {
      "text/html": [
       "<div>\n",
       "<style scoped>\n",
       "    .dataframe tbody tr th:only-of-type {\n",
       "        vertical-align: middle;\n",
       "    }\n",
       "\n",
       "    .dataframe tbody tr th {\n",
       "        vertical-align: top;\n",
       "    }\n",
       "\n",
       "    .dataframe thead th {\n",
       "        text-align: right;\n",
       "    }\n",
       "</style>\n",
       "<table border=\"1\" class=\"dataframe\">\n",
       "  <thead>\n",
       "    <tr style=\"text-align: right;\">\n",
       "      <th>FALLECIDO</th>\n",
       "      <th>0</th>\n",
       "      <th>1</th>\n",
       "    </tr>\n",
       "  </thead>\n",
       "  <tbody>\n",
       "    <tr>\n",
       "      <th>HIPERTENSION</th>\n",
       "      <td>109262</td>\n",
       "      <td>32654</td>\n",
       "    </tr>\n",
       "    <tr>\n",
       "      <th>CARDIOVASCULAR</th>\n",
       "      <td>10854</td>\n",
       "      <td>3918</td>\n",
       "    </tr>\n",
       "  </tbody>\n",
       "</table>\n",
       "</div>"
      ],
      "text/plain": [
       "FALLECIDO            0      1\n",
       "HIPERTENSION    109262  32654\n",
       "CARDIOVASCULAR   10854   3918"
      ]
     },
     "execution_count": 29,
     "metadata": {},
     "output_type": "execute_result"
    }
   ],
   "source": [
    "covid_por_hiper.append(covid_por_cardio)"
   ]
  },
  {
   "cell_type": "markdown",
   "metadata": {},
   "source": [
    "Diseñamos una función que haga el proceso de concatenado por nosotros"
   ]
  },
  {
   "cell_type": "code",
   "execution_count": 30,
   "metadata": {},
   "outputs": [],
   "source": [
    "enfermedades = ['EMBARAZO', 'DIABETES', 'EPOC', 'ASMA', 'INMUSUPR', 'HIPERTENSION', 'CARDIOVASCULAR', 'OBESIDAD', 'RENAL_CRONICA', 'TABAQUISMO', 'OTRA_COM']"
   ]
  },
  {
   "cell_type": "code",
   "execution_count": 31,
   "metadata": {},
   "outputs": [],
   "source": [
    "# Diseñamos una función que lo haga por nosotros\n",
    "def resultadoPorAfeccion(datos, afecciones):\n",
    "    res = 0\n",
    "    isFirst = True\n",
    "    for afec in afecciones:\n",
    "        a = df[df[afec]==1][[afec]].groupby([df['FALLECIDO']]).count()\n",
    "        a = a.T\n",
    "        if (isFirst):\n",
    "            res = a\n",
    "            isFirst = False\n",
    "        else:\n",
    "            res = res.append(a)\n",
    "    return res"
   ]
  },
  {
   "cell_type": "code",
   "execution_count": 32,
   "metadata": {},
   "outputs": [
    {
     "data": {
      "text/html": [
       "<div>\n",
       "<style scoped>\n",
       "    .dataframe tbody tr th:only-of-type {\n",
       "        vertical-align: middle;\n",
       "    }\n",
       "\n",
       "    .dataframe tbody tr th {\n",
       "        vertical-align: top;\n",
       "    }\n",
       "\n",
       "    .dataframe thead th {\n",
       "        text-align: right;\n",
       "    }\n",
       "</style>\n",
       "<table border=\"1\" class=\"dataframe\">\n",
       "  <thead>\n",
       "    <tr style=\"text-align: right;\">\n",
       "      <th>FALLECIDO</th>\n",
       "      <th>0</th>\n",
       "      <th>1</th>\n",
       "    </tr>\n",
       "  </thead>\n",
       "  <tbody>\n",
       "    <tr>\n",
       "      <th>EMBARAZO</th>\n",
       "      <td>5606</td>\n",
       "      <td>72</td>\n",
       "    </tr>\n",
       "    <tr>\n",
       "      <th>DIABETES</th>\n",
       "      <td>85081</td>\n",
       "      <td>27950</td>\n",
       "    </tr>\n",
       "    <tr>\n",
       "      <th>EPOC</th>\n",
       "      <td>7247</td>\n",
       "      <td>3527</td>\n",
       "    </tr>\n",
       "    <tr>\n",
       "      <th>ASMA</th>\n",
       "      <td>17835</td>\n",
       "      <td>1462</td>\n",
       "    </tr>\n",
       "    <tr>\n",
       "      <th>INMUSUPR</th>\n",
       "      <td>6464</td>\n",
       "      <td>1811</td>\n",
       "    </tr>\n",
       "    <tr>\n",
       "      <th>HIPERTENSION</th>\n",
       "      <td>109262</td>\n",
       "      <td>32654</td>\n",
       "    </tr>\n",
       "    <tr>\n",
       "      <th>CARDIOVASCULAR</th>\n",
       "      <td>10854</td>\n",
       "      <td>3918</td>\n",
       "    </tr>\n",
       "    <tr>\n",
       "      <th>OBESIDAD</th>\n",
       "      <td>114122</td>\n",
       "      <td>17822</td>\n",
       "    </tr>\n",
       "    <tr>\n",
       "      <th>RENAL_CRONICA</th>\n",
       "      <td>8904</td>\n",
       "      <td>5118</td>\n",
       "    </tr>\n",
       "    <tr>\n",
       "      <th>TABAQUISMO</th>\n",
       "      <td>48838</td>\n",
       "      <td>5829</td>\n",
       "    </tr>\n",
       "    <tr>\n",
       "      <th>OTRA_COM</th>\n",
       "      <td>14258</td>\n",
       "      <td>3794</td>\n",
       "    </tr>\n",
       "  </tbody>\n",
       "</table>\n",
       "</div>"
      ],
      "text/plain": [
       "FALLECIDO            0      1\n",
       "EMBARAZO          5606     72\n",
       "DIABETES         85081  27950\n",
       "EPOC              7247   3527\n",
       "ASMA             17835   1462\n",
       "INMUSUPR          6464   1811\n",
       "HIPERTENSION    109262  32654\n",
       "CARDIOVASCULAR   10854   3918\n",
       "OBESIDAD        114122  17822\n",
       "RENAL_CRONICA     8904   5118\n",
       "TABAQUISMO       48838   5829\n",
       "OTRA_COM         14258   3794"
      ]
     },
     "execution_count": 32,
     "metadata": {},
     "output_type": "execute_result"
    }
   ],
   "source": [
    "covid_por_enf = resultadoPorAfeccion(df, enfermedades)\n",
    "covid_por_enf"
   ]
  },
  {
   "cell_type": "markdown",
   "metadata": {},
   "source": [
    "#### ¿Cuál es el efecto de las complicaciones presentadas en lso infectados? ####"
   ]
  },
  {
   "cell_type": "code",
   "execution_count": 33,
   "metadata": {},
   "outputs": [],
   "source": [
    "complicaciones = ['INTUBADO', 'NEUMONIA', 'UCI']"
   ]
  },
  {
   "cell_type": "code",
   "execution_count": 34,
   "metadata": {},
   "outputs": [
    {
     "data": {
      "text/html": [
       "<div>\n",
       "<style scoped>\n",
       "    .dataframe tbody tr th:only-of-type {\n",
       "        vertical-align: middle;\n",
       "    }\n",
       "\n",
       "    .dataframe tbody tr th {\n",
       "        vertical-align: top;\n",
       "    }\n",
       "\n",
       "    .dataframe thead th {\n",
       "        text-align: right;\n",
       "    }\n",
       "</style>\n",
       "<table border=\"1\" class=\"dataframe\">\n",
       "  <thead>\n",
       "    <tr style=\"text-align: right;\">\n",
       "      <th>FALLECIDO</th>\n",
       "      <th>0</th>\n",
       "      <th>1</th>\n",
       "    </tr>\n",
       "  </thead>\n",
       "  <tbody>\n",
       "    <tr>\n",
       "      <th>INTUBADO</th>\n",
       "      <td>6364</td>\n",
       "      <td>24794</td>\n",
       "    </tr>\n",
       "    <tr>\n",
       "      <th>NEUMONIA</th>\n",
       "      <td>81390</td>\n",
       "      <td>54209</td>\n",
       "    </tr>\n",
       "    <tr>\n",
       "      <th>UCI</th>\n",
       "      <td>8086</td>\n",
       "      <td>7460</td>\n",
       "    </tr>\n",
       "  </tbody>\n",
       "</table>\n",
       "</div>"
      ],
      "text/plain": [
       "FALLECIDO      0      1\n",
       "INTUBADO    6364  24794\n",
       "NEUMONIA   81390  54209\n",
       "UCI         8086   7460"
      ]
     },
     "execution_count": 34,
     "metadata": {},
     "output_type": "execute_result"
    }
   ],
   "source": [
    "covid_por_comp = resultadoPorAfeccion(df, complicaciones)\n",
    "covid_por_comp"
   ]
  },
  {
   "cell_type": "markdown",
   "metadata": {},
   "source": [
    "### Binning: Pasando datos numéricos a categóricos ###\n",
    "En esta sección responderemos la pregunta\n",
    "* ¿Cómo se distribuyen los infectados y fallecidos según en el espectro de edades?"
   ]
  },
  {
   "cell_type": "markdown",
   "metadata": {},
   "source": [
    "La discretización es el proceso de convertir variables una variable continua (números con decimales) a una discreta (números enteros).   \n",
    "Podríamos usar otra vez apply() para crear un campo nuevo 'RANGO_EDAD' basado en lo contenido dentro del campo 'EDAD', pero Pandas ya viene con una función para hacer todo ese trabajo más fácil."
   ]
  },
  {
   "cell_type": "code",
   "execution_count": 35,
   "metadata": {},
   "outputs": [],
   "source": [
    "df['RANGO_EDAD'] = pd.cut(df['EDAD'], [0,12,19,29,50,65,np.inf], labels=range(6), right=False)"
   ]
  },
  {
   "cell_type": "code",
   "execution_count": 36,
   "metadata": {},
   "outputs": [
    {
     "data": {
      "text/html": [
       "<div>\n",
       "<style scoped>\n",
       "    .dataframe tbody tr th:only-of-type {\n",
       "        vertical-align: middle;\n",
       "    }\n",
       "\n",
       "    .dataframe tbody tr th {\n",
       "        vertical-align: top;\n",
       "    }\n",
       "\n",
       "    .dataframe thead th {\n",
       "        text-align: right;\n",
       "    }\n",
       "</style>\n",
       "<table border=\"1\" class=\"dataframe\">\n",
       "  <thead>\n",
       "    <tr style=\"text-align: right;\">\n",
       "      <th></th>\n",
       "      <th></th>\n",
       "      <th>RANGO_EDAD</th>\n",
       "    </tr>\n",
       "    <tr>\n",
       "      <th>RANGO_EDAD</th>\n",
       "      <th>RESULTADO</th>\n",
       "      <th></th>\n",
       "    </tr>\n",
       "  </thead>\n",
       "  <tbody>\n",
       "    <tr>\n",
       "      <th rowspan=\"2\" valign=\"top\">0</th>\n",
       "      <th>1</th>\n",
       "      <td>9257</td>\n",
       "    </tr>\n",
       "    <tr>\n",
       "      <th>3</th>\n",
       "      <td>2127</td>\n",
       "    </tr>\n",
       "    <tr>\n",
       "      <th rowspan=\"2\" valign=\"top\">1</th>\n",
       "      <th>1</th>\n",
       "      <td>12487</td>\n",
       "    </tr>\n",
       "    <tr>\n",
       "      <th>3</th>\n",
       "      <td>2560</td>\n",
       "    </tr>\n",
       "    <tr>\n",
       "      <th rowspan=\"2\" valign=\"top\">2</th>\n",
       "      <th>1</th>\n",
       "      <td>91578</td>\n",
       "    </tr>\n",
       "    <tr>\n",
       "      <th>3</th>\n",
       "      <td>13469</td>\n",
       "    </tr>\n",
       "    <tr>\n",
       "      <th rowspan=\"2\" valign=\"top\">3</th>\n",
       "      <th>1</th>\n",
       "      <td>308622</td>\n",
       "    </tr>\n",
       "    <tr>\n",
       "      <th>3</th>\n",
       "      <td>35610</td>\n",
       "    </tr>\n",
       "    <tr>\n",
       "      <th rowspan=\"2\" valign=\"top\">4</th>\n",
       "      <th>1</th>\n",
       "      <td>161040</td>\n",
       "    </tr>\n",
       "    <tr>\n",
       "      <th>3</th>\n",
       "      <td>16351</td>\n",
       "    </tr>\n",
       "    <tr>\n",
       "      <th rowspan=\"2\" valign=\"top\">5</th>\n",
       "      <th>1</th>\n",
       "      <td>88732</td>\n",
       "    </tr>\n",
       "    <tr>\n",
       "      <th>3</th>\n",
       "      <td>8433</td>\n",
       "    </tr>\n",
       "  </tbody>\n",
       "</table>\n",
       "</div>"
      ],
      "text/plain": [
       "                      RANGO_EDAD\n",
       "RANGO_EDAD RESULTADO            \n",
       "0          1                9257\n",
       "           3                2127\n",
       "1          1               12487\n",
       "           3                2560\n",
       "2          1               91578\n",
       "           3               13469\n",
       "3          1              308622\n",
       "           3               35610\n",
       "4          1              161040\n",
       "           3               16351\n",
       "5          1               88732\n",
       "           3                8433"
      ]
     },
     "execution_count": 36,
     "metadata": {},
     "output_type": "execute_result"
    }
   ],
   "source": [
    "covid_por_edades = df[['RANGO_EDAD']].groupby([df['RANGO_EDAD'], df['RESULTADO']]).count()\n",
    "covid_por_edades"
   ]
  },
  {
   "cell_type": "markdown",
   "metadata": {},
   "source": [
    "### Correlaciones ###\n",
    "Respondemos la pregunta\n",
    "* ¿Existe alguna correlación entre el tiempo en morir y las edades?"
   ]
  },
  {
   "cell_type": "code",
   "execution_count": 37,
   "metadata": {},
   "outputs": [],
   "source": [
    "def calcularDiasVivo(fila):\n",
    "    tiempo = 0\n",
    "    if (fila.FALLECIDO==1):\n",
    "        tiempo = fila.FECHA_DEF - fila.FECHA_SINTOMAS\n",
    "        tiempo = tiempo.days\n",
    "    return tiempo"
   ]
  },
  {
   "cell_type": "code",
   "execution_count": 38,
   "metadata": {},
   "outputs": [],
   "source": [
    "df['DIAS_VIVO'] = df.apply(calcularDiasVivo, axis='columns')"
   ]
  },
  {
   "cell_type": "code",
   "execution_count": 39,
   "metadata": {},
   "outputs": [
    {
     "data": {
      "text/html": [
       "<div>\n",
       "<style scoped>\n",
       "    .dataframe tbody tr th:only-of-type {\n",
       "        vertical-align: middle;\n",
       "    }\n",
       "\n",
       "    .dataframe tbody tr th {\n",
       "        vertical-align: top;\n",
       "    }\n",
       "\n",
       "    .dataframe thead th {\n",
       "        text-align: right;\n",
       "    }\n",
       "</style>\n",
       "<table border=\"1\" class=\"dataframe\">\n",
       "  <thead>\n",
       "    <tr style=\"text-align: right;\">\n",
       "      <th></th>\n",
       "      <th>EDAD</th>\n",
       "      <th>DIAS_VIVO</th>\n",
       "    </tr>\n",
       "  </thead>\n",
       "  <tbody>\n",
       "    <tr>\n",
       "      <th>EDAD</th>\n",
       "      <td>1.000000</td>\n",
       "      <td>-0.036369</td>\n",
       "    </tr>\n",
       "    <tr>\n",
       "      <th>DIAS_VIVO</th>\n",
       "      <td>-0.036369</td>\n",
       "      <td>1.000000</td>\n",
       "    </tr>\n",
       "  </tbody>\n",
       "</table>\n",
       "</div>"
      ],
      "text/plain": [
       "               EDAD  DIAS_VIVO\n",
       "EDAD       1.000000  -0.036369\n",
       "DIAS_VIVO -0.036369   1.000000"
      ]
     },
     "execution_count": 39,
     "metadata": {},
     "output_type": "execute_result"
    }
   ],
   "source": [
    "# Coeficientes de Correlacion Lineal\n",
    "df[df['FALLECIDO']==1][['EDAD', 'DIAS_VIVO']].corr()"
   ]
  },
  {
   "cell_type": "code",
   "execution_count": 40,
   "metadata": {},
   "outputs": [
    {
     "data": {
      "image/png": "[encoded data removed]",
      "text/plain": [
       "<Figure size 432x288 with 1 Axes>"
      ]
     },
     "metadata": {
      "needs_background": "light"
     },
     "output_type": "display_data"
    }
   ],
   "source": [
    "import matplotlib.pyplot as plt\n",
    "\n",
    "# Las graficas siempre se muestran en Jupyter, aunque usar plt.show() es necesario en otros entornos\n",
    "x = df[df['FALLECIDO']==1]['EDAD']\n",
    "y = df[df['FALLECIDO']==1]['DIAS_VIVO']\n",
    "plt.scatter(x=x, y=y, alpha=0.3)\n",
    "plt.xlabel('Edad')\n",
    "plt.ylabel('Dias en morir')\n",
    "plt.show()"
   ]
  },
  {
   "cell_type": "markdown",
   "metadata": {},
   "source": [
    "### Otras cosas más que aprender de Pandas ###\n",
    "Pandas puede hacer una multitud de tareas\n",
    "* Unir dos o más DataFrames según diferentes reglas\n",
    "* Reordenar los registros según condiciones específicas\n",
    "* Indexado Jerárquico: Columnas que tienen columnas\n",
    "* Manejo más eficiente de memeoria y CPU, usando librerías oomo Spark, etc\n",
    "* Tablas de Pivote\n",
    "* Integración con otras librerías, como scikit-learn\n",
    "* Análisis de series de tiempo"
   ]
  }
 ],
 "metadata": {
  "kernelspec": {
   "display_name": "Python 3",
   "language": "python",
   "name": "python3"
  },
  "language_info": {
   "codemirror_mode": {
    "name": "ipython",
    "version": 3
   },
   "file_extension": ".py",
   "mimetype": "text/x-python",
   "name": "python",
   "nbconvert_exporter": "python",
   "pygments_lexer": "ipython3",
   "version": "3.8.5"
  }
 },
 "nbformat": 4,
 "nbformat_minor": 4
}
